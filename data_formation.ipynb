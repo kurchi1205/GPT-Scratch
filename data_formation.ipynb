{
 "cells": [
  {
   "cell_type": "code",
   "execution_count": 26,
   "id": "d89be1da-442e-4c2c-a0e8-9cc8f87dfbf2",
   "metadata": {},
   "outputs": [],
   "source": [
    "from datasets import load_dataset\n",
    "\n",
    "ds = load_dataset(\"codeparrot/github-code\", split=\"train\", languages=[\"Dockerfile\"], streaming=True)\n",
    "data = []\n",
    "for i, code in enumerate(ds):\n",
    "    if (i == 1000):\n",
    "        break\n",
    "    data.append('Generate Docker File Code: ' + code[\"code\"] + '\\n $$$ \\n')\n",
    "    \n",
    "input_text = \"\".join(data)\n",
    "with open(\"datasets/train_data_code.txt\", \"w\") as f:\n",
    "    f.write(input_text)"
   ]
  },
  {
   "cell_type": "code",
   "execution_count": null,
   "id": "d400f3e3-d156-4503-8e45-35398c3440c2",
   "metadata": {},
   "outputs": [],
   "source": []
  },
  {
   "cell_type": "code",
   "execution_count": null,
   "id": "2a0349ee-5754-4d6a-a0eb-3de651c2a101",
   "metadata": {},
   "outputs": [],
   "source": []
  }
 ],
 "metadata": {
  "environment": {
   "kernel": "python3",
   "name": "pytorch-gpu.2-0.m112",
   "type": "gcloud",
   "uri": "gcr.io/deeplearning-platform-release/pytorch-gpu.2-0:m112"
  },
  "kernelspec": {
   "display_name": "Python 3",
   "language": "python",
   "name": "python3"
  },
  "language_info": {
   "codemirror_mode": {
    "name": "ipython",
    "version": 3
   },
   "file_extension": ".py",
   "mimetype": "text/x-python",
   "name": "python",
   "nbconvert_exporter": "python",
   "pygments_lexer": "ipython3",
   "version": "3.10.12"
  }
 },
 "nbformat": 4,
 "nbformat_minor": 5
}
